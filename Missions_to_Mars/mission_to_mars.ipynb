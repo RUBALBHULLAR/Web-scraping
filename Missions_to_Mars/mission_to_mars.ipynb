{
 "cells": [
  {
   "cell_type": "code",
   "execution_count": 108,
   "metadata": {},
   "outputs": [],
   "source": [
    "# Declare Dependencies\n",
    "from bs4 import BeautifulSoup\n",
    "from splinter import Browser\n",
    "import pandas as pd\n",
    "import requests"
   ]
  },
  {
   "cell_type": "code",
   "execution_count": 109,
   "metadata": {},
   "outputs": [],
   "source": [
    "# Set Executable Path & Initialize Chrome Browser \n",
    "executable_path = {'executable_path': '/Users/rubalbhullar/Downloads/chromedriver'}\n",
    "browser = Browser('chrome', **executable_path, headless=False)"
   ]
  },
  {
   "cell_type": "code",
   "execution_count": 110,
   "metadata": {},
   "outputs": [],
   "source": [
    "# Visit the NASA Mars News Site\n",
    "url = \"https://mars.nasa.gov/news/\"\n",
    "browser.visit(url)"
   ]
  },
  {
   "cell_type": "code",
   "execution_count": 111,
   "metadata": {},
   "outputs": [],
   "source": [
    "# Parse Results HTML with BeautifulSoup\n",
    "html = browser.html\n",
    "news_soup = BeautifulSoup(html, \"html.parser\")\n",
    "slide_element = news_soup.find_all(\"li\",class_=\"slide\")"
   ]
  },
  {
   "cell_type": "markdown",
   "metadata": {},
   "source": [
    "# NASA Mars News"
   ]
  },
  {
   "cell_type": "code",
   "execution_count": 112,
   "metadata": {},
   "outputs": [
    {
     "name": "stdout",
     "output_type": "stream",
     "text": [
      "news title =  A Martian Roundtrip: NASA's Perseverance Rover Sample Tubes \n",
      "\n",
      "news paragraph =  Marvels of engineering, the rover's sample tubes must be tough enough to safely bring Red Planet samples on the long journey back to Earth in immaculate condition. \n",
      "-------------------------------------------------------------------------------------------------------------------\n",
      "news title =  NASA Moves Forward With Campaign to Return Mars Samples to Earth \n",
      "\n",
      "news paragraph =  During this next phase, the program will mature critical technologies and make critical design decisions as well as assess industry partnerships. \n",
      "-------------------------------------------------------------------------------------------------------------------\n",
      "news title =  3 Things We've Learned From NASA's Mars InSight \n",
      "\n",
      "news paragraph =  Scientists are finding new mysteries since the geophysics mission landed two years ago. \n",
      "-------------------------------------------------------------------------------------------------------------------\n",
      "news title =  From JPL's Mailroom to Mars and Beyond \n",
      "\n",
      "news paragraph =  Bill Allen has thrived as the mechanical systems design lead for three Mars rover missions, but he got his start as a teenager sorting letters for the NASA center. \n",
      "-------------------------------------------------------------------------------------------------------------------\n",
      "news title =  5 Hidden Gems Are Riding Aboard NASA's Perseverance Rover \n",
      "\n",
      "news paragraph =  The symbols, mottos, and small objects added to the agency's newest Mars rover serve a variety of purposes, from functional to decorative. \n",
      "-------------------------------------------------------------------------------------------------------------------\n",
      "news title =  MOXIE Could Help Future Rockets Launch Off Mars \n",
      "\n",
      "news paragraph =  NASA's Perseverance rover carries a device to convert Martian air into oxygen that, if produced on a larger scale, could be used not just for breathing, but also for fuel. \n",
      "-------------------------------------------------------------------------------------------------------------------\n",
      "news title =  Hear Audio From NASA's Perseverance As It Travels Through Deep Space \n",
      "\n",
      "news paragraph =  The first to be rigged with microphones, the agency's latest Mars rover picked up the subtle sounds of its own inner workings during interplanetary flight. \n",
      "-------------------------------------------------------------------------------------------------------------------\n",
      "news title =  Mars Is Getting a New Robotic Meteorologist \n",
      "\n",
      "news paragraph =  Sensors on NASA's Perseverance will help prepare for future human exploration by taking weather measurements and studying dust particles. \n",
      "-------------------------------------------------------------------------------------------------------------------\n",
      "news title =  Heat and Dust Help Launch Martian Water Into Space, Scientists Find \n",
      "\n",
      "news paragraph =  Scientists using an instrument aboard NASA’s Mars Atmosphere and Volatile EvolutioN, or MAVEN, spacecraft have discovered that water vapor near the surface of the Red Planet is lofted higher into the atmosphere than anyone expected was possible. \n",
      "-------------------------------------------------------------------------------------------------------------------\n",
      "news title =  NASA's Curiosity Takes Selfie With 'Mary Anning' on the Red Planet \n",
      "\n",
      "news paragraph =  The Mars rover has drilled three samples of rock in this clay-enriched region since arriving in July. \n",
      "-------------------------------------------------------------------------------------------------------------------\n",
      "news title =  Independent Review Indicates NASA Prepared for Mars Sample Return Campaign \n",
      "\n",
      "news paragraph =  NASA released an independent review report Tuesday indicating the agency is well positioned for its Mars Sample Return campaign to bring pristine samples from Mars to Earth for scientific study. \n",
      "-------------------------------------------------------------------------------------------------------------------\n",
      "news title =  NASA's Perseverance Rover 100 Days Out \n",
      "\n",
      "news paragraph =  Mark your calendars: The agency's latest rover has only about 8,640,000 seconds to go before it touches down on the Red Planet, becoming history's next Mars car. \n",
      "-------------------------------------------------------------------------------------------------------------------\n",
      "news title =  NASA's Perseverance Rover Is Midway to Mars \n",
      "\n",
      "news paragraph =  Sometimes half measures can be a good thing – especially on a journey this long. The agency's latest rover only has about 146 million miles left to reach its destination. \n",
      "-------------------------------------------------------------------------------------------------------------------\n",
      "news title =  Sensors on Mars 2020 Spacecraft Answer Long-Distance Call From Earth \n",
      "\n",
      "news paragraph =  Instruments tailored to collect data during the descent of NASA's next rover through the Red Planet's atmosphere have been checked in flight. \n",
      "-------------------------------------------------------------------------------------------------------------------\n",
      "news title =  NASA's Perseverance Rover Bringing 3D-Printed Metal Parts to Mars \n",
      "\n",
      "news paragraph =  For hobbyists and makers, 3D printing expands creative possibilities; for specialized engineers, it's also key to next-generation spacecraft design. \n",
      "-------------------------------------------------------------------------------------------------------------------\n",
      "news title =  NASA InSight's 'Mole' Is Out of Sight \n",
      "\n",
      "news paragraph =  Now that the heat probe is just below the Martian surface, InSight's arm will scoop some additional soil on top to help it keep digging so it can take Mars' temperature. \n",
      "-------------------------------------------------------------------------------------------------------------------\n",
      "news title =  NASA's Perseverance Rover Will Peer Beneath Mars' Surface \n",
      "\n",
      "news paragraph =  The agency's newest rover will use the first ground-penetrating radar instrument on the Martian surface to help search for signs of past microbial life. \n",
      "-------------------------------------------------------------------------------------------------------------------\n",
      "news title =  AI Is Helping Scientists Discover Fresh Craters on Mars \n",
      "\n",
      "news paragraph =  It's the first time machine learning has been used to find previously unknown craters on the Red Planet. \n",
      "-------------------------------------------------------------------------------------------------------------------\n",
      "news title =  NASA's New Mars Rover Is Ready for Space Lasers \n",
      "\n",
      "news paragraph =  Perseverance is one of a few Mars spacecraft carrying laser retroreflectors. The devices could provide new science and safer Mars landings in the future. \n",
      "-------------------------------------------------------------------------------------------------------------------\n",
      "news title =  NASA's New Mars Rover Will Use X-Rays to Hunt Fossils \n",
      "\n",
      "news paragraph =  PIXL, an instrument on the end of the Perseverance rover's arm, will search for chemical fingerprints left by ancient microbes. \n",
      "-------------------------------------------------------------------------------------------------------------------\n",
      "news title =  My Culture, My Voice \n",
      "\n",
      "news paragraph =  In honor of Hispanic Heritage Month, Christina Hernandez, an instrument engineer on the Mars 2020 mission, talks about her childhood and journey to NASA. \n",
      "-------------------------------------------------------------------------------------------------------------------\n",
      "news title =  NASA Readies Perseverance Mars Rover's Earthly Twin \n",
      "\n",
      "news paragraph =  Did you know NASA's next Mars rover has a nearly identical sibling on Earth for testing? Even better, it's about to roll for the first time through a replica Martian landscape. \n",
      "-------------------------------------------------------------------------------------------------------------------\n",
      "news title =  NASA Engineers Checking InSight's Weather Sensors \n",
      "\n",
      "news paragraph =  An electronics issue is suspected to be preventing the sensors from sharing their data about Mars weather with the spacecraft. \n",
      "-------------------------------------------------------------------------------------------------------------------\n",
      "news title =  Follow NASA's Perseverance Rover in Real Time on Its Way to Mars \n",
      "\n",
      "news paragraph =  A crisply rendered web application can show you where the agency's Mars 2020 mission is right now as it makes its way to the Red Planet for a Feb. 18, 2021, landing. \n",
      "-------------------------------------------------------------------------------------------------------------------\n",
      "news title =  NASA Establishes Board to Initially Review Mars Sample Return Plans \n",
      "\n",
      "news paragraph =  The board will assist with analysis of current plans and goals for one of the most difficult missions humanity has ever undertaken. \n",
      "-------------------------------------------------------------------------------------------------------------------\n",
      "news title =  NASA's Ingenuity Mars Helicopter Recharges Its Batteries in Flight \n",
      "\n",
      "news paragraph =  Headed to the Red Planet with the Perseverance rover, the pioneering helicopter is powered up for the first time in interplanetary space as part of a systems check. \n",
      "-------------------------------------------------------------------------------------------------------------------\n",
      "news title =  Celebrate Mars Reconnaissance Orbiter's Views From Above \n",
      "\n",
      "news paragraph =  Marking its 15th anniversary since launch, one of the oldest spacecraft at the Red Planet has provided glimpses of dust devils, avalanches, and more. \n",
      "-------------------------------------------------------------------------------------------------------------------\n",
      "news title =  NASA's MAVEN Observes Martian Night Sky Pulsing in Ultraviolet Light \n",
      "\n",
      "news paragraph =  Vast areas of the Martian night sky pulse in ultraviolet light, according to images from NASA’s MAVEN spacecraft. The results are being used to illuminate complex circulation patterns in the Martian atmosphere. \n",
      "-------------------------------------------------------------------------------------------------------------------\n",
      "news title =  8 Martian Postcards to Celebrate Curiosity's Landing Anniversary \n",
      "\n",
      "news paragraph =  The NASA rover touched down eight years ago, on Aug. 5, 2012, and will soon be joined by a second rover, Perseverance. \n",
      "-------------------------------------------------------------------------------------------------------------------\n",
      "news title =  NASA, ULA Launch Mars 2020 Perseverance Rover Mission to Red Planet \n",
      "\n",
      "news paragraph =  The agency's Mars 2020 mission is on its way. It will land at Jezero Crater in about seven months, on Feb. 18, 2021. \n",
      "-------------------------------------------------------------------------------------------------------------------\n",
      "news title =  NASA's Perseverance Rover Will Carry First Spacesuit Materials to Mars \n",
      "\n",
      "news paragraph =  In a Q&A, spacesuit designer Amy Ross explains how five samples, including a piece of helmet visor, will be tested aboard the rover, which is targeting a July 30 launch. \n",
      "-------------------------------------------------------------------------------------------------------------------\n",
      "news title =  A New Video Captures the Science of NASA's Perseverance Mars Rover \n",
      "\n",
      "news paragraph =  With a targeted launch date of July 30, the next robotic scientist NASA is sending to the to the Red Planet has big ambitions. \n",
      "-------------------------------------------------------------------------------------------------------------------\n",
      "news title =  NASA Invites Public to Share Excitement of Mars 2020 Perseverance Rover Launch \n",
      "\n",
      "news paragraph =  There are lots of ways to participate in the historic event, which is targeted for July 30. \n",
      "-------------------------------------------------------------------------------------------------------------------\n",
      "news title =  NASA's Mars Perseverance Rover Passes Flight Readiness Review \n",
      "\n",
      "news paragraph =  ​The agency's Mars 2020 mission has one more big prelaunch review – the Launch Readiness Review, on July 27. \n",
      "-------------------------------------------------------------------------------------------------------------------\n",
      "news title =  NASA to Broadcast Mars 2020 Perseverance Launch, Prelaunch Activities \n",
      "\n",
      "news paragraph =  Starting July 27, news activities will cover everything from mission engineering and science to returning samples from Mars to, of course, the launch itself. \n",
      "-------------------------------------------------------------------------------------------------------------------\n",
      "news title =  6 Things to Know About NASA's Ingenuity Mars Helicopter \n",
      "\n",
      "news paragraph =  The first helicopter attempting to fly on another planet is a marvel of engineering. Get up to speed with these key facts about its plans. \n",
      "-------------------------------------------------------------------------------------------------------------------\n",
      "news title =  Join NASA for the Launch of the Mars 2020 Perseverance Rover \n",
      "\n",
      "news paragraph =  No matter where you live, choose from a menu of activities to join NASA as we \"Countdown to Mars\" and launch the Perseverance rover to the Red Planet. \n",
      "-------------------------------------------------------------------------------------------------------------------\n",
      "news title =  NASA's Perseverance Rover Attached to Atlas V Rocket \n",
      "\n",
      "news paragraph =  Ready for its launch later in the month, the Mars-bound rover will touch terra firma no more. \n",
      "-------------------------------------------------------------------------------------------------------------------\n",
      "news title =  7 Things to Know About the Mars 2020 Perseverance Rover Mission \n",
      "\n",
      "news paragraph =  NASA's next rover to the Red Planet is slated to launch no earlier than July 30. These highlights will get you up to speed on the ambitious mission. \n",
      "-------------------------------------------------------------------------------------------------------------------\n",
      "news title =  NASA's InSight Flexes Its Arm While Its 'Mole' Hits Pause \n",
      "\n",
      "news paragraph =  Now that the lander's robotic arm has helped the mole get underground, it will resume science activities that have been on hold. \n",
      "-------------------------------------------------------------------------------------------------------------------\n"
     ]
    }
   ],
   "source": [
    "#Scrape the Latest News Title and Paragraph Text\n",
    "for i in range (0,len(slide_element)):\n",
    "    news_title = slide_element[i].find(\"div\",class_=\"content_title\")\n",
    "    news_text = slide_element[i].find(\"div\",class_=\"article_teaser_body\")\n",
    "    \n",
    "    print(\"news title = \" , news_title.text.strip(),\"\\n\")\n",
    "    print(\"news paragraph = \" , news_text.text.strip(),\"\\n-------------------------------------------------------------------------------------------------------------------\")"
   ]
  },
  {
   "cell_type": "markdown",
   "metadata": {},
   "source": [
    "# JPL Mars Space Images - Featured Image"
   ]
  },
  {
   "cell_type": "code",
   "execution_count": 120,
   "metadata": {},
   "outputs": [],
   "source": [
    "# Visit the NASA JPL (Jet Propulsion Laboratory) Site\n",
    "executable_path = {'executable_path': '/Users/rubalbhullar/Downloads/chromedriver'}\n",
    "browser = Browser('chrome', **executable_path, headless=False)\n",
    "url = \"https://www.jpl.nasa.gov/spaceimages/?search=&category=Mars\"\n",
    "browser.visit(url)"
   ]
  },
  {
   "cell_type": "code",
   "execution_count": 121,
   "metadata": {},
   "outputs": [],
   "source": [
    "# Ask Splinter to Go to Site and Click Button with Class Name full_image\n",
    "full_image_button = browser.find_by_id(\"full_image\")\n",
    "full_image_button.click()"
   ]
  },
  {
   "cell_type": "code",
   "execution_count": 122,
   "metadata": {},
   "outputs": [],
   "source": [
    "# Find \"More Info\" Button and Click It\n",
    "browser.is_element_present_by_text(\"more info\", wait_time=1)\n",
    "more_info_element = browser.find_link_by_partial_text(\"more info\")\n",
    "more_info_element.click()"
   ]
  },
  {
   "cell_type": "code",
   "execution_count": 123,
   "metadata": {},
   "outputs": [],
   "source": [
    "# Parse Results HTML with BeautifulSoup\n",
    "html = browser.html\n",
    "image_soup = BeautifulSoup(html, \"html.parser\")"
   ]
  },
  {
   "cell_type": "code",
   "execution_count": 124,
   "metadata": {},
   "outputs": [
    {
     "data": {
      "text/plain": [
       "'/spaceimages/images/largesize/PIA17761_hires.jpg'"
      ]
     },
     "execution_count": 124,
     "metadata": {},
     "output_type": "execute_result"
    }
   ],
   "source": [
    "img_url = image_soup.select_one(\"figure.lede a img\").get(\"src\")\n",
    "img_url"
   ]
  },
  {
   "cell_type": "code",
   "execution_count": 125,
   "metadata": {},
   "outputs": [
    {
     "name": "stdout",
     "output_type": "stream",
     "text": [
      "https://www.jpl.nasa.gov/spaceimages/images/largesize/PIA17761_hires.jpg\n"
     ]
    }
   ],
   "source": [
    "# Use Base URL to obtain absolute URL\n",
    "img_url = f\"https://www.jpl.nasa.gov{img_url}\"\n",
    "print(img_url)"
   ]
  },
  {
   "cell_type": "markdown",
   "metadata": {},
   "source": [
    "# Space Facts-Mars"
   ]
  },
  {
   "cell_type": "code",
   "execution_count": 24,
   "metadata": {},
   "outputs": [
    {
     "name": "stdout",
     "output_type": "stream",
     "text": [
      "                      0                              1\n",
      "0  Equatorial Diameter:                       6,792 km\n",
      "1       Polar Diameter:                       6,752 km\n",
      "2                 Mass:  6.39 × 10^23 kg (0.11 Earths)\n",
      "3                Moons:            2 (Phobos & Deimos)\n",
      "4       Orbit Distance:       227,943,824 km (1.38 AU)\n",
      "5         Orbit Period:           687 days (1.9 years)\n",
      "6  Surface Temperature:                   -87 to -5 °C\n",
      "7         First Record:              2nd millennium BC\n",
      "8          Recorded By:           Egyptian astronomers\n"
     ]
    },
    {
     "data": {
      "text/html": [
       "<div>\n",
       "<style scoped>\n",
       "    .dataframe tbody tr th:only-of-type {\n",
       "        vertical-align: middle;\n",
       "    }\n",
       "\n",
       "    .dataframe tbody tr th {\n",
       "        vertical-align: top;\n",
       "    }\n",
       "\n",
       "    .dataframe thead th {\n",
       "        text-align: right;\n",
       "    }\n",
       "</style>\n",
       "<table border=\"1\" class=\"dataframe\">\n",
       "  <thead>\n",
       "    <tr style=\"text-align: right;\">\n",
       "      <th></th>\n",
       "      <th>Value</th>\n",
       "    </tr>\n",
       "    <tr>\n",
       "      <th>Description</th>\n",
       "      <th></th>\n",
       "    </tr>\n",
       "  </thead>\n",
       "  <tbody>\n",
       "    <tr>\n",
       "      <th>Equatorial Diameter:</th>\n",
       "      <td>6,792 km</td>\n",
       "    </tr>\n",
       "    <tr>\n",
       "      <th>Polar Diameter:</th>\n",
       "      <td>6,752 km</td>\n",
       "    </tr>\n",
       "    <tr>\n",
       "      <th>Mass:</th>\n",
       "      <td>6.39 × 10^23 kg (0.11 Earths)</td>\n",
       "    </tr>\n",
       "    <tr>\n",
       "      <th>Moons:</th>\n",
       "      <td>2 (Phobos &amp; Deimos)</td>\n",
       "    </tr>\n",
       "    <tr>\n",
       "      <th>Orbit Distance:</th>\n",
       "      <td>227,943,824 km (1.38 AU)</td>\n",
       "    </tr>\n",
       "    <tr>\n",
       "      <th>Orbit Period:</th>\n",
       "      <td>687 days (1.9 years)</td>\n",
       "    </tr>\n",
       "    <tr>\n",
       "      <th>Surface Temperature:</th>\n",
       "      <td>-87 to -5 °C</td>\n",
       "    </tr>\n",
       "    <tr>\n",
       "      <th>First Record:</th>\n",
       "      <td>2nd millennium BC</td>\n",
       "    </tr>\n",
       "    <tr>\n",
       "      <th>Recorded By:</th>\n",
       "      <td>Egyptian astronomers</td>\n",
       "    </tr>\n",
       "  </tbody>\n",
       "</table>\n",
       "</div>"
      ],
      "text/plain": [
       "                                              Value\n",
       "Description                                        \n",
       "Equatorial Diameter:                       6,792 km\n",
       "Polar Diameter:                            6,752 km\n",
       "Mass:                 6.39 × 10^23 kg (0.11 Earths)\n",
       "Moons:                          2 (Phobos & Deimos)\n",
       "Orbit Distance:            227,943,824 km (1.38 AU)\n",
       "Orbit Period:                  687 days (1.9 years)\n",
       "Surface Temperature:                   -87 to -5 °C\n",
       "First Record:                     2nd millennium BC\n",
       "Recorded By:                   Egyptian astronomers"
      ]
     },
     "execution_count": 24,
     "metadata": {},
     "output_type": "execute_result"
    }
   ],
   "source": [
    "# Visit the Mars Facts Site Using Pandas to Read\n",
    "mars_df = pd.read_html(\"https://space-facts.com/mars/\")[0]\n",
    "print(mars_df)\n",
    "mars_df.columns=[\"Description\", \"Value\"]\n",
    "mars_df.set_index(\"Description\", inplace=True)\n",
    "mars_df"
   ]
  },
  {
   "cell_type": "code",
   "execution_count": null,
   "metadata": {},
   "outputs": [],
   "source": []
  }
 ],
 "metadata": {
  "kernelspec": {
   "display_name": "Python 3",
   "language": "python",
   "name": "python3"
  },
  "language_info": {
   "codemirror_mode": {
    "name": "ipython",
    "version": 3
   },
   "file_extension": ".py",
   "mimetype": "text/x-python",
   "name": "python",
   "nbconvert_exporter": "python",
   "pygments_lexer": "ipython3",
   "version": "3.8.3"
  }
 },
 "nbformat": 4,
 "nbformat_minor": 4
}
